{
  "nbformat": 4,
  "nbformat_minor": 0,
  "metadata": {
    "colab": {
      "name": "CNN.ipynb",
      "provenance": [],
      "include_colab_link": true
    },
    "kernelspec": {
      "name": "python3",
      "display_name": "Python 3"
    },
    "accelerator": "TPU"
  },
  "cells": [
    {
      "cell_type": "markdown",
      "metadata": {
        "id": "view-in-github",
        "colab_type": "text"
      },
      "source": [
        "<a href=\"https://colab.research.google.com/github/Baljitsingh677/Data-jinn/blob/master/CNN.ipynb\" target=\"_parent\"><img src=\"https://colab.research.google.com/assets/colab-badge.svg\" alt=\"Open In Colab\"/></a>"
      ]
    },
    {
      "cell_type": "code",
      "metadata": {
        "id": "AuPV8uGTgM5v",
        "colab_type": "code",
        "colab": {}
      },
      "source": [
        "# Mounting to Google drive\n",
        "from google.colab import drive\n",
        "drive.mount('/content/drive')"
      ],
      "execution_count": 0,
      "outputs": []
    },
    {
      "cell_type": "code",
      "metadata": {
        "id": "LGuvNf4fhmpt",
        "colab_type": "code",
        "colab": {}
      },
      "source": [
        "!pip install tensorflow-gpu==2.0"
      ],
      "execution_count": 0,
      "outputs": []
    },
    {
      "cell_type": "code",
      "metadata": {
        "id": "mGadQLxKwNzV",
        "colab_type": "code",
        "colab": {}
      },
      "source": [
        "!pip install mlxtend==0.17.0 "
      ],
      "execution_count": 0,
      "outputs": []
    },
    {
      "cell_type": "code",
      "metadata": {
        "id": "ZNZ_FFoBajWk",
        "colab_type": "code",
        "colab": {
          "base_uri": "https://localhost:8080/",
          "height": 34
        },
        "outputId": "b72d8810-b3ab-4735-bca0-716578a6ecd3"
      },
      "source": [
        "# Importing  the keras library and packages for CNN\n",
        "import tensorflow as tf\n",
        "from tensorflow.keras import Sequential\n",
        "from tensorflow.keras.layers import Convolution2D\n",
        "from tensorflow.keras.layers import MaxPooling2D, Dropout\n",
        "from tensorflow.keras.layers import Flatten\n",
        "from tensorflow.keras.layers import Dense\n",
        "print(tf.__version__)"
      ],
      "execution_count": 12,
      "outputs": [
        {
          "output_type": "stream",
          "text": [
            "2.0.0\n"
          ],
          "name": "stdout"
        }
      ]
    },
    {
      "cell_type": "code",
      "metadata": {
        "id": "oBy7ewxhzcpF",
        "colab_type": "code",
        "colab": {}
      },
      "source": [
        "# Importing supporting libraries and packages\n",
        "import numpy as np\n",
        "import pandas as pd\n",
        "import matplotlib.pyplot as plt\n",
        "import matplotlib"
      ],
      "execution_count": 0,
      "outputs": []
    },
    {
      "cell_type": "code",
      "metadata": {
        "id": "3BV3FX910tqK",
        "colab_type": "code",
        "colab": {}
      },
      "source": [
        "# Data downloaded from kaggle or cfar10 directly\n",
        "from tensorflow.keras.datasets import cifar10"
      ],
      "execution_count": 0,
      "outputs": []
    },
    {
      "cell_type": "code",
      "metadata": {
        "id": "wN_oIRQo0tiJ",
        "colab_type": "code",
        "colab": {}
      },
      "source": [
        "(X_train, y_train), (X_test, y_test) = cifar10.load_data()"
      ],
      "execution_count": 0,
      "outputs": []
    },
    {
      "cell_type": "code",
      "metadata": {
        "id": "X5VsSV9a0tN9",
        "colab_type": "code",
        "colab": {}
      },
      "source": [
        "# creating list of classes or images\n",
        "classes_name  = ['airplane', 'automobile', 'bird', 'cat', 'dog', 'deer', 'frog', 'horse', 'ship','truck']"
      ],
      "execution_count": 0,
      "outputs": []
    },
    {
      "cell_type": "code",
      "metadata": {
        "id": "4yrQOxFL4OUX",
        "colab_type": "code",
        "colab": {}
      },
      "source": [
        "X_train.max()"
      ],
      "execution_count": 0,
      "outputs": []
    },
    {
      "cell_type": "code",
      "metadata": {
        "id": "MY8fYx3Z4Xas",
        "colab_type": "code",
        "colab": {}
      },
      "source": [
        "X_train = X_train/255\n",
        "X_test = X_test/255"
      ],
      "execution_count": 0,
      "outputs": []
    },
    {
      "cell_type": "code",
      "metadata": {
        "id": "G4gc8e_t4pL-",
        "colab_type": "code",
        "colab": {}
      },
      "source": [
        "X_train.shape"
      ],
      "execution_count": 0,
      "outputs": []
    },
    {
      "cell_type": "code",
      "metadata": {
        "id": "IhxxdNAT5cIA",
        "colab_type": "code",
        "colab": {}
      },
      "source": [
        "X_test.shape"
      ],
      "execution_count": 0,
      "outputs": []
    },
    {
      "cell_type": "code",
      "metadata": {
        "id": "20lWfxK85j9E",
        "colab_type": "code",
        "colab": {
          "base_uri": "https://localhost:8080/",
          "height": 283
        },
        "outputId": "328bf55c-0ea8-4fa3-a735-9247800fee11"
      },
      "source": [
        "plt.imshow(X_test[0])"
      ],
      "execution_count": 28,
      "outputs": [
        {
          "output_type": "execute_result",
          "data": {
            "text/plain": [
              "<matplotlib.image.AxesImage at 0x7fa337acbc88>"
            ]
          },
          "metadata": {
            "tags": []
          },
          "execution_count": 28
        },
        {
          "output_type": "display_data",
          "data": {
            "image/png": "[encoded data removed]",
            "text/plain": [
              "<Figure size 432x288 with 1 Axes>"
            ]
          },
          "metadata": {
            "tags": []
          }
        }
      ]
    },
    {
      "cell_type": "code",
      "metadata": {
        "id": "kQUYnlKS6Q-E",
        "colab_type": "code",
        "colab": {
          "base_uri": "https://localhost:8080/",
          "height": 136
        },
        "outputId": "6a78c265-2f03-41f1-dc08-d10088624a1d"
      },
      "source": [
        "y_test"
      ],
      "execution_count": 29,
      "outputs": [
        {
          "output_type": "execute_result",
          "data": {
            "text/plain": [
              "array([[3],\n",
              "       [8],\n",
              "       [8],\n",
              "       ...,\n",
              "       [5],\n",
              "       [1],\n",
              "       [7]], dtype=uint8)"
            ]
          },
          "metadata": {
            "tags": []
          },
          "execution_count": 29
        }
      ]
    },
    {
      "cell_type": "code",
      "metadata": {
        "id": "aYnpkuTU6mvT",
        "colab_type": "code",
        "colab": {}
      },
      "source": [
        ""
      ],
      "execution_count": 0,
      "outputs": []
    },
    {
      "cell_type": "markdown",
      "metadata": {
        "id": "VhUGbDBT6n43",
        "colab_type": "text"
      },
      "source": [
        "## `Build CNN Model`"
      ]
    },
    {
      "cell_type": "code",
      "metadata": {
        "id": "62xWmOeqhmy8",
        "colab_type": "code",
        "colab": {}
      },
      "source": [
        "# Initialising the CNN\n",
        "classifier = Sequential()\n",
        "# Step 1 Convolution\n",
        "classifier.add(Convolution2D(filters=32, kernel_size=(3, 3), padding='same', activation='relu', input_shape=[32, 32, 3]))\n",
        "\n",
        "classifier.add(Convolution2D(filters=32, kernel_size=(3, 3), padding='same', activation='relu'))\n",
        "classifier.add(MaxPooling2D(pool_size=(2, 2), strides=2, padding='valid'))\n",
        "classifier.add(Dropout(0.5))\n",
        "\n",
        "classifier.add(Flatten())\n",
        "classifier.add(Dense(units=128, activation='relu'))\n",
        "classifier.add(Dense(units=10, activation='softmax'))\n"
      ],
      "execution_count": 0,
      "outputs": []
    },
    {
      "cell_type": "code",
      "metadata": {
        "id": "ZWwo3oeXhmst",
        "colab_type": "code",
        "colab": {
          "base_uri": "https://localhost:8080/",
          "height": 391
        },
        "outputId": "30ad92ec-e38f-4007-c282-ecabfbcd1308"
      },
      "source": [
        "classifier.summary()\n"
      ],
      "execution_count": 41,
      "outputs": [
        {
          "output_type": "stream",
          "text": [
            "Model: \"sequential_5\"\n",
            "_________________________________________________________________\n",
            "Layer (type)                 Output Shape              Param #   \n",
            "=================================================================\n",
            "conv2d_10 (Conv2D)           (None, 32, 32, 32)        896       \n",
            "_________________________________________________________________\n",
            "conv2d_11 (Conv2D)           (None, 32, 32, 32)        9248      \n",
            "_________________________________________________________________\n",
            "max_pooling2d_4 (MaxPooling2 (None, 16, 16, 32)        0         \n",
            "_________________________________________________________________\n",
            "dropout_2 (Dropout)          (None, 16, 16, 32)        0         \n",
            "_________________________________________________________________\n",
            "flatten_2 (Flatten)          (None, 8192)              0         \n",
            "_________________________________________________________________\n",
            "dense_4 (Dense)              (None, 128)               1048704   \n",
            "_________________________________________________________________\n",
            "dense_5 (Dense)              (None, 10)                1290      \n",
            "=================================================================\n",
            "Total params: 1,060,138\n",
            "Trainable params: 1,060,138\n",
            "Non-trainable params: 0\n",
            "_________________________________________________________________\n"
          ],
          "name": "stdout"
        }
      ]
    },
    {
      "cell_type": "code",
      "metadata": {
        "id": "IjLUCjoKhmh-",
        "colab_type": "code",
        "colab": {}
      },
      "source": [
        "classifier.compile(optimizer='adam', loss='sparse_categorical_crossentropy', metrics=['sparse_categorical_accuracy'])"
      ],
      "execution_count": 0,
      "outputs": []
    },
    {
      "cell_type": "code",
      "metadata": {
        "id": "ORD6k-D3hme4",
        "colab_type": "code",
        "colab": {
          "base_uri": "https://localhost:8080/",
          "height": 394
        },
        "outputId": "786a6629-a83e-4b8b-8f93-ed57052f3d2e"
      },
      "source": [
        "history = classifier.fit(X_train, y_train, batch_size=10, epochs=10, verbose=1, validation_data=(X_test, y_test))"
      ],
      "execution_count": 44,
      "outputs": [
        {
          "output_type": "stream",
          "text": [
            "Train on 50000 samples, validate on 10000 samples\n",
            "Epoch 1/10\n",
            "50000/50000 [==============================] - 217s 4ms/sample - loss: 2.3029 - sparse_categorical_accuracy: 0.0976 - val_loss: 2.3027 - val_sparse_categorical_accuracy: 0.1000\n",
            "Epoch 2/10\n",
            "50000/50000 [==============================] - 217s 4ms/sample - loss: 2.3030 - sparse_categorical_accuracy: 0.0990 - val_loss: 2.3026 - val_sparse_categorical_accuracy: 0.1000\n",
            "Epoch 3/10\n",
            "50000/50000 [==============================] - 218s 4ms/sample - loss: 2.3028 - sparse_categorical_accuracy: 0.0994 - val_loss: 2.3027 - val_sparse_categorical_accuracy: 0.1000\n",
            "Epoch 4/10\n",
            "50000/50000 [==============================] - 219s 4ms/sample - loss: 2.3028 - sparse_categorical_accuracy: 0.0983 - val_loss: 2.3027 - val_sparse_categorical_accuracy: 0.1000\n",
            "Epoch 5/10\n",
            "50000/50000 [==============================] - 217s 4ms/sample - loss: 2.3029 - sparse_categorical_accuracy: 0.0994 - val_loss: 2.3028 - val_sparse_categorical_accuracy: 0.1000\n",
            "Epoch 6/10\n",
            "50000/50000 [==============================] - 217s 4ms/sample - loss: 2.3029 - sparse_categorical_accuracy: 0.0983 - val_loss: 2.3027 - val_sparse_categorical_accuracy: 0.1000\n",
            "Epoch 7/10\n",
            "50000/50000 [==============================] - 216s 4ms/sample - loss: 2.3029 - sparse_categorical_accuracy: 0.0980 - val_loss: 2.3027 - val_sparse_categorical_accuracy: 0.1000\n",
            "Epoch 8/10\n",
            "50000/50000 [==============================] - 217s 4ms/sample - loss: 2.3029 - sparse_categorical_accuracy: 0.0992 - val_loss: 2.3026 - val_sparse_categorical_accuracy: 0.1000\n",
            "Epoch 9/10\n",
            "50000/50000 [==============================] - 219s 4ms/sample - loss: 2.3029 - sparse_categorical_accuracy: 0.0978 - val_loss: 2.3027 - val_sparse_categorical_accuracy: 0.1000\n",
            "Epoch 10/10\n",
            "50000/50000 [==============================] - 217s 4ms/sample - loss: 2.3029 - sparse_categorical_accuracy: 0.0971 - val_loss: 2.3027 - val_sparse_categorical_accuracy: 0.1000\n"
          ],
          "name": "stdout"
        }
      ]
    },
    {
      "cell_type": "code",
      "metadata": {
        "id": "YgTh2QifhmbU",
        "colab_type": "code",
        "colab": {
          "base_uri": "https://localhost:8080/",
          "height": 573
        },
        "outputId": "d5700e59-0020-4c7d-f5c0-5ddab62daccc"
      },
      "source": [
        "# Plot training and validation accuracy values\n",
        "epoch_range = range(1, 11)\n",
        "plt.plot(epoch_range, history.history['sparse_categorical_accuracy'])\n",
        "plt.plot(epoch_range, history.history['val_sparse_categorical_accuracy'])\n",
        "plt.title('Model Accuracy')\n",
        "plt.ylabel('Accuracy')\n",
        "plt.xlabel('Epoch')\n",
        "plt.legend(['Train', 'Val'], loc='upper left')\n",
        "plt.show()\n",
        "\n",
        "# Plot training and validation loss values\n",
        "plt.plot(epoch_range, history.history['loss'])\n",
        "plt.plot(epoch_range, history.history['val_loss'])\n",
        "plt.title('Model loss')\n",
        "plt.ylabel('loss')\n",
        "plt.xlabel('Epoch')\n",
        "plt.legend(['Train', 'Val'], loc='upper left')\n",
        "plt.show()"
      ],
      "execution_count": 45,
      "outputs": [
        {
          "output_type": "display_data",
          "data": {
            "image/png": "[encoded data removed]",
            "text/plain": [
              "<Figure size 432x288 with 1 Axes>"
            ]
          },
          "metadata": {
            "tags": []
          }
        },
        {
          "output_type": "display_data",
          "data": {
            "image/png": "[encoded data removed]",
            "text/plain": [
              "<Figure size 432x288 with 1 Axes>"
            ]
          },
          "metadata": {
            "tags": []
          }
        }
      ]
    },
    {
      "cell_type": "code",
      "metadata": {
        "id": "9ElISlh7hmYT",
        "colab_type": "code",
        "colab": {}
      },
      "source": [
        "from mlxtend.plotting import plot_confusion_matrix\n",
        "from sklearn.metrics import confusion_matrix "
      ],
      "execution_count": 0,
      "outputs": []
    },
    {
      "cell_type": "code",
      "metadata": {
        "id": "y1PV9C3hhmNL",
        "colab_type": "code",
        "colab": {
          "base_uri": "https://localhost:8080/",
          "height": 34
        },
        "outputId": "5acf771d-10f3-49ec-91ff-126718e505e4"
      },
      "source": [
        "y_pred = classifier.predict_classes(X_test)\n",
        "y_pred"
      ],
      "execution_count": 58,
      "outputs": [
        {
          "output_type": "execute_result",
          "data": {
            "text/plain": [
              "array([6, 6, 6, ..., 6, 6, 6])"
            ]
          },
          "metadata": {
            "tags": []
          },
          "execution_count": 58
        }
      ]
    },
    {
      "cell_type": "code",
      "metadata": {
        "id": "kF-CghxLhl4r",
        "colab_type": "code",
        "colab": {
          "base_uri": "https://localhost:8080/",
          "height": 187
        },
        "outputId": "4313f98f-e7ac-4a4f-86cf-7761630b6bd6"
      },
      "source": [
        "cm = confusion_matrix(y_test, y_pred)\n",
        "cm"
      ],
      "execution_count": 59,
      "outputs": [
        {
          "output_type": "execute_result",
          "data": {
            "text/plain": [
              "array([[   0,    0,    0,    0,    0,    0, 1000,    0,    0,    0],\n",
              "       [   0,    0,    0,    0,    0,    0, 1000,    0,    0,    0],\n",
              "       [   0,    0,    0,    0,    0,    0, 1000,    0,    0,    0],\n",
              "       [   0,    0,    0,    0,    0,    0, 1000,    0,    0,    0],\n",
              "       [   0,    0,    0,    0,    0,    0, 1000,    0,    0,    0],\n",
              "       [   0,    0,    0,    0,    0,    0, 1000,    0,    0,    0],\n",
              "       [   0,    0,    0,    0,    0,    0, 1000,    0,    0,    0],\n",
              "       [   0,    0,    0,    0,    0,    0, 1000,    0,    0,    0],\n",
              "       [   0,    0,    0,    0,    0,    0, 1000,    0,    0,    0],\n",
              "       [   0,    0,    0,    0,    0,    0, 1000,    0,    0,    0]])"
            ]
          },
          "metadata": {
            "tags": []
          },
          "execution_count": 59
        }
      ]
    },
    {
      "cell_type": "code",
      "metadata": {
        "id": "hbbBo5euMzzy",
        "colab_type": "code",
        "colab": {
          "base_uri": "https://localhost:8080/",
          "height": 439
        },
        "outputId": "40733727-30db-4d87-e2c5-8cefbf41b95d"
      },
      "source": [
        "plot_confusion_matrix(cm, figsize=(6,6), class_names=classes_name)"
      ],
      "execution_count": 60,
      "outputs": [
        {
          "output_type": "execute_result",
          "data": {
            "text/plain": [
              "(<Figure size 432x432 with 1 Axes>,\n",
              " <matplotlib.axes._subplots.AxesSubplot at 0x7fa31fe235f8>)"
            ]
          },
          "metadata": {
            "tags": []
          },
          "execution_count": 60
        },
        {
          "output_type": "display_data",
          "data": {
            "image/png": "[encoded data removed]",
            "text/plain": [
              "<Figure size 432x432 with 1 Axes>"
            ]
          },
          "metadata": {
            "tags": []
          }
        }
      ]
    },
    {
      "cell_type": "code",
      "metadata": {
        "id": "FiYXk_hJMzwS",
        "colab_type": "code",
        "colab": {
          "base_uri": "https://localhost:8080/",
          "height": 595
        },
        "outputId": "b0ecac45-61da-4a54-9bc0-e2741020a642"
      },
      "source": [
        "plot_confusion_matrix(cm, figsize=(9,9), class_names=classes_name, show_normed=True)"
      ],
      "execution_count": 62,
      "outputs": [
        {
          "output_type": "execute_result",
          "data": {
            "text/plain": [
              "(<Figure size 648x648 with 1 Axes>,\n",
              " <matplotlib.axes._subplots.AxesSubplot at 0x7fa3314f10b8>)"
            ]
          },
          "metadata": {
            "tags": []
          },
          "execution_count": 62
        },
        {
          "output_type": "display_data",
          "data": {
            "image/png": "[encoded data removed]",
            "text/plain": [
              "<Figure size 648x648 with 1 Axes>"
            ]
          },
          "metadata": {
            "tags": []
          }
        }
      ]
    },
    {
      "cell_type": "code",
      "metadata": {
        "id": "al82xs-rMzpK",
        "colab_type": "code",
        "colab": {}
      },
      "source": [
        ""
      ],
      "execution_count": 0,
      "outputs": []
    },
    {
      "cell_type": "code",
      "metadata": {
        "id": "i1LRbTkOMzmf",
        "colab_type": "code",
        "colab": {}
      },
      "source": [
        ""
      ],
      "execution_count": 0,
      "outputs": []
    },
    {
      "cell_type": "code",
      "metadata": {
        "id": "sO6ugkZHMzei",
        "colab_type": "code",
        "colab": {}
      },
      "source": [
        ""
      ],
      "execution_count": 0,
      "outputs": []
    },
    {
      "cell_type": "code",
      "metadata": {
        "id": "dc7zpTBhMzbG",
        "colab_type": "code",
        "colab": {}
      },
      "source": [
        ""
      ],
      "execution_count": 0,
      "outputs": []
    },
    {
      "cell_type": "code",
      "metadata": {
        "id": "5obj2jq0MzXL",
        "colab_type": "code",
        "colab": {}
      },
      "source": [
        ""
      ],
      "execution_count": 0,
      "outputs": []
    },
    {
      "cell_type": "code",
      "metadata": {
        "id": "_BGCW5wcMzO6",
        "colab_type": "code",
        "colab": {}
      },
      "source": [
        ""
      ],
      "execution_count": 0,
      "outputs": []
    },
    {
      "cell_type": "code",
      "metadata": {
        "id": "H8mMG799MzDB",
        "colab_type": "code",
        "colab": {}
      },
      "source": [
        ""
      ],
      "execution_count": 0,
      "outputs": []
    }
  ]
}